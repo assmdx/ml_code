{
 "cells": [
  {
   "cell_type": "code",
   "execution_count": null,
   "metadata": {},
   "outputs": [],
   "source": [
    "#示例代码\n",
    "\n",
    "# action_userid = action[action.userid==obj]['actionTime']\n",
    "# df3 = pd.DataFrame(np.random.randn(10, 5),columns=['a', 'b', 'c', 'd', 'e'])\n",
    "# print(df3.iloc[2:3])  \n",
    "\n",
    "# x_lastype  = pd.DataFrame(columns=['userid', 'actionType'])\n",
    "# x_lastype.set_index(['userid'])\n",
    "# for obj in useridlist:\n",
    "#     userlastype = action[action.userid==obj].tail(1)\n",
    "#     del userlastype['actionTime']\n",
    "#     frames = [x_lastype,userlastype]  \n",
    "#     x_lastype = pd.concat(frames)\n",
    "# x_lasttype.columns =['userid', 'lastType']\n",
    "# x_lasttype.to_csv('x_lasttye.csv') #保存找到的特征\n",
    "\n",
    "#遍历datafram的方法\n",
    "# a = 1\n",
    "# for obj in useridlist:\n",
    "#     a = a + 1\n",
    "#     if a < 10 :\n",
    "#         print(obj)\n",
    "#     else:\n",
    "#         break\n",
    "#删除第i行\n",
    "#df3 = df3.drop(0)\n",
    "#计算相邻列之间的差\n",
    "#.shift(1)\n",
    "#合并x和y\n",
    "# uk_jpn_rain = orderfut.merge(x_lastype, on='userid')\n",
    "# print(uk_jpn_rain)"
   ]
  },
  {
   "cell_type": "code",
   "execution_count": 33,
   "metadata": {},
   "outputs": [],
   "source": [
    "# #拿到倒数第三个type/倒数第二个type/第一个type/最后一个type\n",
    "# x_actiontype = pd.DataFrame(columns=['userid', 'Type1','Typelas1','Typelas2','Typelas3'])\n",
    "# for obj in useridlist:\n",
    "#     action_userid_ac1 = action[action.userid==obj].head(1)\n",
    "#     action_las3 = action[action.userid==obj].tail(3)\n",
    "#     del action_userid_ac1['actionTime']\n",
    "#     del  action_las3['actionTime']    \n",
    "#     action_las3_las = action_las3.iloc[2:3]\n",
    "#     action_las3_las2 = action_las3.iloc[1:2]\n",
    "#     action_las3_las3 = action_las3.iloc[0:1]    \n",
    "#     now_1 = action_userid_ac1.merge(action_las3_las, on='userid')\n",
    "#     now_2 = now_1.merge(action_las3_las2, on='userid')\n",
    "#     now_3 = now_2.merge(action_las3_las3, on='userid')    \n",
    "#     now_3.columns =['userid', 'Type1','Typelas1','Typelas2','Typelas3']\n",
    "#     frames = [x_actiontype,now_3]\n",
    "#     x_actiontype = pd.concat(frames)   \n",
    "# x_actiontype.to_csv('x_actiontype.csv')"
   ]
  },
  {
   "cell_type": "code",
   "execution_count": null,
   "metadata": {},
   "outputs": [],
   "source": [
    "import pandas as pd\n",
    "import numpy as np\n",
    "#读取y\n",
    "orderfut = pd.read_csv('data/trainingset/orderFuture_train.csv',encoding='utf-8')\n",
    "useridlist = orderfut['userid']\n",
    "action = pd.read_csv('data/trainingset/action_train.csv',encoding='utf-8')\n",
    "#拿到时间间隔 均值/方差/最小值/末尾值/倒数第二个值/倒数第三个值/倒数第四个值\n",
    "#拿到最后三个时间间隔均值/最后三个时间间隔方差/第一个时间间隔\n",
    "x_mid_tim = pd.DataFrame(columns=['userid', 'ave_tim','fang_tim','min_tim','las_tim','las2_tim','las3_tim','las4_tim','las3_ave_tim','las3_fang_tim','fir_tim'])\n",
    "for obj in useridlist:\n",
    "    action_mid_tim = action[action.userid==obj]#时间间隔\n",
    "    del action_mid_tim['actionType']\n",
    "    del action_mid_tim['userid']\n",
    "    ac_mid1 = action_mid_tim['actionTime']\n",
    "    ac_mid2 = action_mid_tim['actionTime'].shift(1)\n",
    "    ac_mid3 = ac_mid1-ac_mid2\n",
    "    ac_mid4 = ac_mid3.drop(0) #得到相邻之间的间隔\n",
    "    ac_mean = ac_mid4.mean()\n",
    "    ac_re1 = pd.DateFrame([obj,ac_mean],columns=['userid','ave_tim'])\n",
    "    ac_fang = ac_mid4.var()\n",
    "    ac_re2 = pd.DateFrame([obj,ac_fang],columns=['userid','fang_tim'])\n",
    "    ac_min = ac_mid4.min()\n",
    "    ac_re3 = pd.DateFrame([obj,ac_min],columns=['userid','min_tim'])\n",
    "    ac_lasthree = ac_mid.tail(4)\n",
    "    ac_las = ac_lasthree.iloc[3:4]\n",
    "    ac_re4 = pd.DateFrame([obj,ac_las],columns=['userid','las_tim'])\n",
    "    ac_las2=ac_lasthree.iloc[2:3]\n",
    "    ac_re5 = pd.DateFrame([obj,ac_las2],columns=['userid','las2_tim'])\n",
    "    ac_las3=ac_lasthree.iloc[1:2]\n",
    "    ac_re6 = pd.DateFrame([obj,ac_las3],columns=['userid','las3_tim'])\n",
    "    ac_las4=ac_lasthree.iloc[0:1]\n",
    "    ac_re7 = pd.DateFrame([obj,ac_las4],columns=['userid','las4_tim'])\n",
    "    ac_lasthree2 = ac_mid.tail(3)\n",
    "    ac_las_ave = ac_lasthree2.mean()\n",
    "    ac_re8 = pd.DateFrame([obj,ac_las_ave],columns=['userid','las3_ave_tim'])\n",
    "    ac_las_fang = ac_lasthree2.var()\n",
    "    ac_re9 = pd.DateFrame([obj,ac_las_fang],columns=['userid','las3_fang_tim'])\n",
    "    ac_fir_tim = ac_mid.head(1)\n",
    "    ac_re10 = pd.DateFrame([obj,ac_las_fang],columns=['userid','fir_tim'])\n",
    "                \n",
    "    now_1 = ac_re1.merge(ac_re2, on='userid')\n",
    "    now_2 = now_1.merge(ac_re3, on='userid')\n",
    "    now_3 = now_2.merge(ac_re4, on='userid')\n",
    "    now_4 = now_3.merge(ac_re5, on='userid')\n",
    "    now_5 = now_4.merge(ac_re6, on='userid')\n",
    "    now_6 = now_5.merge(ac_re7, on='userid')\n",
    "    now_7 = now_6.merge(ac_re8, on='userid')\n",
    "    now_8 = now_7.merge(ac_re9, on='userid')\n",
    "    now_9 = now_8.merge(ac_re10, on='userid')    \n",
    "    now_9.columns =['userid', 'ave_tim','fang_tim','min_tim','las_tim','las2_tim','las3_tim','las4_tim','las3_ave_tim','las3_fang_tim','fir_tim']\n",
    "    frames = [x_mid_tim,now_9]\n",
    "    x_mid_tim = pd.concat(frames)   \n",
    "x_mid_tim.to_csv('x_mid_tim.csv')"
   ]
  },
  {
   "cell_type": "code",
   "execution_count": null,
   "metadata": {},
   "outputs": [],
   "source": [
    "orderhis = pd.read_csv('data/trainingset/orderHistory_train.csv',encoding='utf-8')"
   ]
  },
  {
   "cell_type": "code",
   "execution_count": null,
   "metadata": {},
   "outputs": [],
   "source": [
    "usercom = pd.read_csv('data/trainingset/userComment_train.csv',encoding='utf-8')"
   ]
  },
  {
   "cell_type": "code",
   "execution_count": null,
   "metadata": {},
   "outputs": [],
   "source": [
    "userpro = pd.read_csv('data/trainingset/userProfile_train.csv',encoding='utf-8')"
   ]
  }
 ],
 "metadata": {
  "kernelspec": {
   "display_name": "Python 3",
   "language": "python",
   "name": "python3"
  },
  "language_info": {
   "codemirror_mode": {
    "name": "ipython",
    "version": 3
   },
   "file_extension": ".py",
   "mimetype": "text/x-python",
   "name": "python",
   "nbconvert_exporter": "python",
   "pygments_lexer": "ipython3",
   "version": "3.5.3"
  }
 },
 "nbformat": 4,
 "nbformat_minor": 2
}
